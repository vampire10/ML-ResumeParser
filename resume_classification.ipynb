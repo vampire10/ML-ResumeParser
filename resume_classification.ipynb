{
 "cells": [
  {
   "cell_type": "markdown",
   "metadata": {
    "colab_type": "text",
    "id": "-h4oIrgOKMk0"
   },
   "source": [
    "# Automatic resume classification"
   ]
  },
  {
   "cell_type": "markdown",
   "metadata": {
    "colab_type": "text",
    "id": "CQ51HfXgdHha"
   },
   "source": []
  },
  {
   "cell_type": "markdown",
   "metadata": {
    "colab_type": "text",
    "id": "EUVuHVE9ePTL"
   },
   "source": [
    "## 1. Data input and pre-processing\n",
    "\n",
    "We are loading this dataset locally, as a CSV file, and adding a column encoding the category as an integer (categorical variables are often better represented by integers than strings).\n"
   ]
  },
  {
   "cell_type": "code",
   "execution_count": null,
   "metadata": {
    "colab": {
     "autoexec": {
      "startup": false,
      "wait_interval": 0
     }
    },
    "colab_type": "code",
    "id": "JFMm799HKMlu"
   },
   "outputs": [],
   "source": [
    "%matplotlib inline\n",
    "import pandas as pd\n",
    "import matplotlib as plt"
   ]
  },
  {
   "cell_type": "code",
   "execution_count": null,
   "metadata": {
    "colab": {
     "autoexec": {
      "startup": false,
      "wait_interval": 0
     }
    },
    "colab_type": "code",
    "id": "pLDKrqMMzmxq"
   },
   "outputs": [],
   "source": [
    "#from google.colab import files\n",
    "#uploaded = files.upload()"
   ]
  },
  {
   "cell_type": "code",
   "execution_count": 148,
   "metadata": {
    "colab": {
     "autoexec": {
      "startup": false,
      "wait_interval": 0
     }
    },
    "colab_type": "code",
    "collapsed": true,
    "id": "45vv7UAMKMlx"
   },
   "outputs": [],
   "source": [
    "from StringIO import StringIO\n",
    "df = pd.read_csv(\"resume.csv\")\n",
    "df['category_id'] = df['category'].factorize()[0]"
   ]
  },
  {
   "cell_type": "code",
   "execution_count": 3,
   "metadata": {},
   "outputs": [
    {
     "data": {
      "text/plain": [
       "0     \\n Woodland Hills, CA\\n \\n • Over 6 years of d...\n",
       "1     San, Himachal Pradesh\\n \\n ➢ 8+ years of profe...\n",
       "2     \\n I am an UI/UX designer of 5.8 years' experi...\n",
       "3     \\n Citi Bank - Plano, TX\\n May 2015 to Present...\n",
       "4     \\n • Having 8 years of experience in developin...\n",
       "5     UI Developer - Unique idea Software Technologi...\n",
       "6     \\n Personal information \\n \\n last update: 3rd...\n",
       "7     jobs@glob.com.au\\n Career Summary\\n Senior Jav...\n",
       "8     Bengaluru, Karnataka\\n \\n Work Experience\\n IB...\n",
       "9     \\n Pune, Maharashtra - Email me on Indeed: ind...\n",
       "10    \\n Sr. Java Developer - KCS\\n \\n mo - Email me...\n",
       "11    \\n Senior Software Developer, Brovada (Toronto...\n",
       "12    Nandan Acura Society,\\n Baner Road,\\n Baner, P...\n",
       "13    mailsudhir@gmail.com\\n Indeed Resume\\n what\\n ...\n",
       "14    Software Engineer\\n E-mail ID : tushii012@gmai...\n",
       "15    \\n rishabhraj123@gmail.com | +91 9545372959\\n ...\n",
       "16    \\n Bengaluru, Karnataka\\n \\n • Have 4 year of ...\n",
       "17    Bangalore, Karnataka\\n \\n Work Experience\\n Se...\n",
       "18    Pune, Maharashtra\\n \\n ➢ 2. 5 Years of experie...\n",
       "19    Pune, Maharashtra\\n \\n ❑ Have around 2.5 years...\n",
       "Name: content, dtype: object"
      ]
     },
     "execution_count": 3,
     "metadata": {},
     "output_type": "execute_result"
    }
   ],
   "source": [
    "df.content"
   ]
  },
  {
   "cell_type": "markdown",
   "metadata": {
    "colab_type": "text",
    "id": "kRviyvPXec-K"
   },
   "source": [
    "## 2. Data exploration\n",
    "\n",
    "Before diving head-first into training machine learning models, we should become familiar with the structure and characteristics of our dataset: these properties might inform our problem-solving approach.\n",
    "\n",
    "A first step would be to look at some random examples, and the number of examples in each class:"
   ]
  },
  {
   "cell_type": "code",
   "execution_count": 33,
   "metadata": {
    "colab": {
     "autoexec": {
      "startup": false,
      "wait_interval": 0
     }
    },
    "colab_type": "code",
    "collapsed": true,
    "id": "2wDV-e9TdRoU"
   },
   "outputs": [],
   "source": [
    "category_id_df = df[['category', 'category_id']].drop_duplicates().sort_values('category_id')\n",
    "category_to_id = dict(category_id_df.values)\n",
    "id_to_category = dict(category_id_df[['category_id', 'category']].values)"
   ]
  },
  {
   "cell_type": "code",
   "execution_count": 35,
   "metadata": {},
   "outputs": [
    {
     "data": {
      "text/plain": [
       "array([[0, 'frontend_ui'],\n",
       "       [1, 'java'],\n",
       "       [2, 'linux_kernel'],\n",
       "       [3, 'qa_automation']], dtype=object)"
      ]
     },
     "execution_count": 35,
     "metadata": {},
     "output_type": "execute_result"
    }
   ],
   "source": [
    "category_id_df[['category_id', 'category']].values"
   ]
  },
  {
   "cell_type": "code",
   "execution_count": 37,
   "metadata": {},
   "outputs": [
    {
     "name": "stdout",
     "output_type": "stream",
     "text": [
      "{0: 'frontend_ui', 1: 'java', 2: 'linux_kernel', 3: 'qa_automation'}\n"
     ]
    }
   ],
   "source": [
    "print (id_to_category)"
   ]
  },
  {
   "cell_type": "code",
   "execution_count": 38,
   "metadata": {
    "colab": {
     "autoexec": {
      "startup": false,
      "wait_interval": 0
     },
     "base_uri": "https://localhost:8080/",
     "height": 204
    },
    "colab_type": "code",
    "executionInfo": {
     "elapsed": 361,
     "status": "ok",
     "timestamp": 1515195246795,
     "user": {
      "displayName": "Ahmed Kachkach",
      "photoUrl": "//lh5.googleusercontent.com/-IlbMIIRYYN0/AAAAAAAAAAI/AAAAAAAAACQ/91L3Fdw7uDE/s50-c-k-no/photo.jpg",
      "userId": "107763703931350855934"
     },
     "user_tz": 480
    },
    "id": "CM-x-fpjKMl0",
    "outputId": "f9836675-1c83-474e-d787-0f7d75e759d5"
   },
   "outputs": [
    {
     "data": {
      "text/html": [
       "<div>\n",
       "<table border=\"1\" class=\"dataframe\">\n",
       "  <thead>\n",
       "    <tr style=\"text-align: right;\">\n",
       "      <th></th>\n",
       "      <th>category</th>\n",
       "      <th>content</th>\n",
       "      <th>filename</th>\n",
       "      <th>title</th>\n",
       "      <th>category_id</th>\n",
       "    </tr>\n",
       "  </thead>\n",
       "  <tbody>\n",
       "    <tr>\n",
       "      <th>3</th>\n",
       "      <td>frontend_ui</td>\n",
       "      <td>\\n Citi Bank - Plano, TX\\n May 2015 to Present...</td>\n",
       "      <td>spandana.txt</td>\n",
       "      <td>Angular JS/UI Developer\\n</td>\n",
       "      <td>0</td>\n",
       "    </tr>\n",
       "    <tr>\n",
       "      <th>16</th>\n",
       "      <td>qa_automation</td>\n",
       "      <td>\\n Bengaluru, Karnataka\\n \\n • Have 4 year of ...</td>\n",
       "      <td>utkarsh_dixit.txt</td>\n",
       "      <td>QA Automation Engineer\\n</td>\n",
       "      <td>3</td>\n",
       "    </tr>\n",
       "    <tr>\n",
       "      <th>6</th>\n",
       "      <td>java</td>\n",
       "      <td>\\n Personal information \\n \\n last update: 3rd...</td>\n",
       "      <td>junior_java.txt</td>\n",
       "      <td>curriculum vitae \\n</td>\n",
       "      <td>1</td>\n",
       "    </tr>\n",
       "    <tr>\n",
       "      <th>10</th>\n",
       "      <td>java</td>\n",
       "      <td>\\n Sr. Java Developer - KCS\\n \\n mo - Email me...</td>\n",
       "      <td>sanosh-java.txt</td>\n",
       "      <td>sanosh java\\n</td>\n",
       "      <td>1</td>\n",
       "    </tr>\n",
       "    <tr>\n",
       "      <th>2</th>\n",
       "      <td>frontend_ui</td>\n",
       "      <td>\\n I am an UI/UX designer of 5.8 years' experi...</td>\n",
       "      <td>sahu.txt</td>\n",
       "      <td>UI/UX Designer - Epic Minds Information Techno...</td>\n",
       "      <td>0</td>\n",
       "    </tr>\n",
       "  </tbody>\n",
       "</table>\n",
       "</div>"
      ],
      "text/plain": [
       "         category                                            content  \\\n",
       "3     frontend_ui  \\n Citi Bank - Plano, TX\\n May 2015 to Present...   \n",
       "16  qa_automation  \\n Bengaluru, Karnataka\\n \\n • Have 4 year of ...   \n",
       "6            java  \\n Personal information \\n \\n last update: 3rd...   \n",
       "10           java  \\n Sr. Java Developer - KCS\\n \\n mo - Email me...   \n",
       "2     frontend_ui  \\n I am an UI/UX designer of 5.8 years' experi...   \n",
       "\n",
       "             filename                                              title  \\\n",
       "3        spandana.txt                          Angular JS/UI Developer\\n   \n",
       "16  utkarsh_dixit.txt                           QA Automation Engineer\\n   \n",
       "6     junior_java.txt                                curriculum vitae \\n   \n",
       "10    sanosh-java.txt                                      sanosh java\\n   \n",
       "2            sahu.txt  UI/UX Designer - Epic Minds Information Techno...   \n",
       "\n",
       "    category_id  \n",
       "3             0  \n",
       "16            3  \n",
       "6             1  \n",
       "10            1  \n",
       "2             0  "
      ]
     },
     "execution_count": 38,
     "metadata": {},
     "output_type": "execute_result"
    }
   ],
   "source": [
    "df.sample(5, random_state=1)"
   ]
  },
  {
   "cell_type": "code",
   "execution_count": 39,
   "metadata": {},
   "outputs": [
    {
     "data": {
      "text/plain": [
       "<matplotlib.axes._subplots.AxesSubplot at 0x7f249d54e510>"
      ]
     },
     "execution_count": 39,
     "metadata": {},
     "output_type": "execute_result"
    },
    {
     "data": {
      "image/png": "[encoded data removed]",
      "text/plain": [
       "<matplotlib.figure.Figure at 0x7f249d589990>"
      ]
     },
     "metadata": {},
     "output_type": "display_data"
    }
   ],
   "source": [
    "df.groupby('category').filename.count().plot.bar(ylim=1)"
   ]
  },
  {
   "cell_type": "code",
   "execution_count": 75,
   "metadata": {},
   "outputs": [
    {
     "name": "stdout",
     "output_type": "stream",
     "text": [
      "['linux admin', 'restore', 'solaris', 'nosql', 'performance testing', 'ip networking', 'jre', 'rest', 'jboss-ws', 'gdb', 'strace', 'mysql', 'responsive', 'disk', 'xml', 'java gui', 'redhat', 'selenium', 'whatwg', 'quality assurance', 'networking', 'linux system administration', 'junit', 'automation engineering', 'css3', 'python developer', 'crash', 'python', 'web fonts', 'test engineering', 'java developer', 'servlet', 'aix', 'linux', 'dbx', 'gui', 'responsive design', 'c++', 'patch', 'qa', 'nfs', 'redhat linux', 'chrome dev tools', 'arp', 'kernel', 'qtp', 'mdb', 'spring', 'testing', 'kdb', 'design', 'communication skills', 'system administration', 'ldap', 'vmware', 'quality assurance engineering', 'ftp', 'iptables', 'rpm', 'css grids', 'ejb', 'device driver', 'jboss', 'ui prototyping', 'web services', 'dhcp', 'babeljs', 'scada', 'wireframing', 'hibernate', 'dtrace', 'javascript', 'web technologies', 'data structures', 'ajax', 'jdbc', 'plc', 'windows', 'ubuntu', 'smacss', 'ms-sql', 'linux server', 'bash', 'cli', 'transpilers', 'j2ee', 'vue', 'java script', 'bash scripting', 'programming', 'ux writing', 'test automation', 'software testing', 'core java', 'swing', 'jfs', 'tftp', 'wso2wsas', 'os', 'support', 'software engineer', 'oocss', 'backup', 'shell scripting', 'coding', 'kvm', 'vxfs', 'apache', 'unix', 'linux kernel', 'java servlet', 'jrun', 'resets', 'perl', 'manual testing', 'angular', 'w3c', 'git', 'java', 'centos', 'css frameworks', 'python automation', 'struts', 'snmp', 'devops', 'service workers', 'json', 'rhel', 'dns', 'memory', 'functional testing', 'website', 'lpar', 'shell', 'os patch', 'integration testing', 'web design', 'jms', 'file system', 'c', 'telnet', 'volume', 'jsonp', 'webapp', 'cross browser', 'jquery', 'database administration', 'operating system', 'ux', 'bem', 'eclipse', 'cvs', 'ejb3', 'frameworks', 'ui', 'lvm', 'esx', 'usability', 'debugging', 'automation testing', 'oracle rac', 'jpa', 'ant', 'firebug', 'gui testing', 'sles', 'tcp', 'dlna', 'upnp', 'boilerplate', 'axis2', 'automation tools', 'broswer', 'html', 'computer science', 'nat', 'android', 'soap', 'css', 'linux administration', 'jsf', 'fs', 'mongodb', 'vlan', 'automation', 'react', 'webserver', 'jsp', 'sql', 'php', 'java programmer', 'svn', 'github', 'software engineering', 'dom', 'mobile', 'svg', 'bootstrap', 'qa engineer', 'django', 'volume manager', 'cpu', 'ssh']\n"
     ]
    }
   ],
   "source": [
    "import pickle\n",
    "with open(\"keyword_conf/keywords.pkl\", \"rb\") as fp:                             \n",
    "    keywords = pickle.load(fp)\n",
    "fp.close()\n",
    "\n",
    "keywords = list(set(keywords))\n",
    "print keywords"
   ]
  },
  {
   "cell_type": "code",
   "execution_count": 90,
   "metadata": {
    "colab": {
     "autoexec": {
      "startup": false,
      "wait_interval": 0
     },
     "base_uri": "https://localhost:8080/",
     "height": 34
    },
    "colab_type": "code",
    "executionInfo": {
     "elapsed": 4780,
     "status": "ok",
     "timestamp": 1515195253546,
     "user": {
      "displayName": "Ahmed Kachkach",
      "photoUrl": "//lh5.googleusercontent.com/-IlbMIIRYYN0/AAAAAAAAAAI/AAAAAAAAACQ/91L3Fdw7uDE/s50-c-k-no/photo.jpg",
      "userId": "107763703931350855934"
     },
     "user_tz": 480
    },
    "id": "mtmh4uCMKMl5",
    "outputId": "b5f662fd-823f-499c-cf0c-a4511db10941"
   },
   "outputs": [
    {
     "name": "stdout",
     "output_type": "stream",
     "text": [
      "TfidfVectorizer(analyzer=u'word', binary=False, decode_error=u'strict',\n",
      "        dtype=<type 'numpy.int64'>, encoding='latin-1', input=u'content',\n",
      "        lowercase=True, max_df=1.0, max_features=None, min_df=5,\n",
      "        ngram_range=(1, 2), norm='l2', preprocessor=None, smooth_idf=True,\n",
      "        stop_words='english', strip_accents=None, sublinear_tf=True,\n",
      "        token_pattern=u'(?u)\\\\b\\\\w\\\\w+\\\\b', tokenizer=None, use_idf=True,\n",
      "        vocabulary=None)\n"
     ]
    },
    {
     "data": {
      "text/plain": [
       "TfidfVectorizer(analyzer=u'word', binary=False, decode_error=u'strict',\n",
       "        dtype=<type 'numpy.int64'>, encoding='latin-1', input=u'content',\n",
       "        lowercase=True, max_df=1.0, max_features=None, min_df=5,\n",
       "        ngram_range=(1, 2), norm='l2', preprocessor=None, smooth_idf=True,\n",
       "        stop_words='english', strip_accents=None, sublinear_tf=True,\n",
       "        token_pattern=u'(?u)\\\\b\\\\w\\\\w+\\\\b', tokenizer=None, use_idf=True,\n",
       "        vocabulary=None)"
      ]
     },
     "execution_count": 90,
     "metadata": {},
     "output_type": "execute_result"
    }
   ],
   "source": [
    "from sklearn.feature_extraction.text import TfidfVectorizer\n",
    "#tfidf = TfidfVectorizer(sublinear_tf=True, min_df=5, norm='l2', encoding='latin-1', ngram_range=(1, 2), \n",
    " #                       vocabulary=['ux', 'ui', 'wireframing', 'coding', 'ux writing', 'ui prototyping', 'html', 'css', 'javascript', 'jquery', 'github', 'css', 'css3', 'ajax', 'php', 'html', 'bootstrap', 'java', 'website', 'webserver', 'angular', 'react', 'responsive', 'gui', 'boilerplate', 'oocss', 'bem', 'smacss', 'css grids', 'css frameworks', 'resets', 'w3c', 'whatwg', 'vue', 'usability', 'chrome dev tools', 'firebug', 'svg', 'web design', 'mobile', 'cross browser', 'dom', 'transpilers', 'babeljs', 'webapp', 'sql', 'mysql', 'nosql', 'mongodb', 'json', 'jsonp', 'xml', 'service workers', 'web fonts', 'frameworks', 'git', 'broswer', 'responsive design', 'java', 'j2ee', 'javascript', 'hibernate', 'core java', 'spring', 'jquery', 'struts', 'xml', 'html', 'web services', 'jsp', 'sql', 'ajax', 'android', 'web technologies', 'css', 'mysql', 'java script', 'php', 'java developer', 'java programmer', 'ejb3', 'jboss', 'jms', 'web services', 'soap', 'rest', 'axis2', 'wso2wsas', 'jboss-ws', 'jpa', 'ms-sql', 'eclipse', 'ant', 'svn', 'servlet', 'jrun', 'jdbc', 'ms-sql', 'java servlet', 'jrun', 'java gui', 'swing', 'jre', 'javascript', 'jsp', 'jsf', 'ejb', 'jpa', 'junit', 'python', 'python developer', 'python automation', 'automation', 'testing', 'django', 'automation testing', 'automation', 'selenium', 'manual testing', 'test engineering', 'qa', 'plc', 'software testing', 'java', 'scada', 'qtp', 'quality assurance', 'quality assurance engineering', 'automation tools', 'perl', 'automation engineering', 'test automation', 'performance testing', 'testing', 'manual testing', 'functional testing', 'gui testing', 'integration testing', 'automation testing', 'qa engineer', 'devops', 'linux', 'system administration', 'linux administration', 'unix', 'networking', 'linux system administration', 'windows', 'mysql', 'solaris', 'redhat linux', 'linux admin', 'perl', 'linux server', 'database administration', 'php', 'ubuntu', 'shell scripting', 'apache', 'dns', 'c', 'c++', 'linux', 'kernel', 'software engineer', 'debugging', 'programming', 'networking', 'device driver', 'c', 'ip networking', 'dns', 'upnp', 'tcp', 'dlna', 'nat', 'arp', 'vlan', 'bash scripting', 'data structures', 'linux kernel', 'software engineering', 'system administration', 'computer science', 'design', 'support', 'communication skills', 'aix', 'vxfs', 'redhat', 'rhel', 'shell', 'bash', 'nfs', 'jfs', 'os', 'operating system', 'os patch', 'lpar', 'volume', 'file system', 'fs', 'backup', 'restore', 'lvm', 'cpu', 'memory', 'disk', 'vmware', 'esx', 'unix', 'centos', 'kvm', 'patch', 'rpm', 'ftp', 'ssh', 'telnet', 'dhcp', 'ldap', 'tftp', 'snmp', 'iptables', 'oracle rac', 'cli', 'kdb', 'dbx', 'crash', 'mdb', 'gdb', 'strace', 'dtrace', 'cvs', 'svn', 'git', 'sles', 'volume manager']\n",
    "#)\n",
    "\n",
    "tfidf = TfidfVectorizer(sublinear_tf=True, min_df=5, norm='l2', encoding='latin-1', ngram_range=(1, 2), \n",
    "                        stop_words='english')\n",
    "print tfidf\n",
    "features = tfidf.fit_transform(df.content)\n",
    "features = tfidf.fit_transform(df.content).toarray()\n",
    "labels = df.category_id\n",
    "features\n",
    "tfidf"
   ]
  },
  {
   "cell_type": "code",
   "execution_count": 73,
   "metadata": {},
   "outputs": [
    {
     "name": "stdout",
     "output_type": "stream",
     "text": [
      "0     0\n",
      "1     0\n",
      "2     0\n",
      "3     0\n",
      "4     0\n",
      "5     0\n",
      "6     1\n",
      "7     1\n",
      "8     1\n",
      "9     1\n",
      "10    1\n",
      "11    1\n",
      "12    2\n",
      "13    2\n",
      "14    2\n",
      "15    2\n",
      "16    3\n",
      "17    3\n",
      "18    3\n",
      "19    3\n",
      "Name: category_id, dtype: int64\n"
     ]
    }
   ],
   "source": [
    "print (labels)"
   ]
  },
  {
   "cell_type": "code",
   "execution_count": 92,
   "metadata": {
    "colab": {
     "autoexec": {
      "startup": false,
      "wait_interval": 0
     },
     "base_uri": "https://localhost:8080/",
     "height": 782
    },
    "colab_type": "code",
    "executionInfo": {
     "elapsed": 1619,
     "status": "ok",
     "timestamp": 1515195255193,
     "user": {
      "displayName": "Ahmed Kachkach",
      "photoUrl": "//lh5.googleusercontent.com/-IlbMIIRYYN0/AAAAAAAAAAI/AAAAAAAAACQ/91L3Fdw7uDE/s50-c-k-no/photo.jpg",
      "userId": "107763703931350855934"
     },
     "user_tz": 480
    },
    "id": "p5pkpgQsKMmN",
    "outputId": "f7126cbd-4ba1-4c01-aea0-67ab51d7f4e8"
   },
   "outputs": [
    {
     "name": "stdout",
     "output_type": "stream",
     "text": [
      "('frontend_ui', 0)\n",
      "# 'frontend_ui':\n",
      "  . Most correlated unigrams:\n",
      "       . ajax\n",
      "       . jquery\n",
      "       . bootstrap\n",
      "       . ui\n",
      "  . Most correlated bigrams:\n",
      "       . jquery ajax\n",
      "       . html5 css3\n",
      "       . javascript jquery\n",
      "       . ui developer\n",
      "('java', 1)\n",
      "# 'java':\n",
      "  . Most correlated unigrams:\n",
      "       . ant\n",
      "       . j2ee\n",
      "       . spring\n",
      "       . hibernate\n",
      "  . Most correlated bigrams:\n",
      "       . java j2ee\n",
      "       . spring mvc\n",
      "       . oracle database\n",
      "       . java developer\n",
      "('linux_kernel', 2)\n",
      "# 'linux_kernel':\n",
      "  . Most correlated unigrams:\n",
      "       . gmail\n",
      "       . aix\n",
      "       . solaris\n",
      "       . kernel\n",
      "  . Most correlated bigrams:\n",
      "       . experience working\n",
      "       . linux unix\n",
      "       . gmail com\n",
      "       . software engineer\n",
      "('qa_automation', 3)\n",
      "# 'qa_automation':\n",
      "  . Most correlated unigrams:\n",
      "       . qa\n",
      "       . automation\n",
      "       . selenium\n",
      "       . manual\n",
      "  . Most correlated bigrams:\n",
      "       . pune maharashtra\n",
      "       . test cases\n",
      "       . integration testing\n",
      "       . life cycle\n"
     ]
    }
   ],
   "source": [
    "import numpy as np\n",
    "from sklearn.feature_selection import chi2\n",
    "\n",
    "N = 4\n",
    "for category, category_id in sorted(category_to_id.iteritems()):\n",
    "  print(category, category_id)  \n",
    "  features_chi2 = chi2(features, labels == category_id)\n",
    "  #print (features_chi2) \n",
    "  indices = np.argsort(features_chi2[0])\n",
    "  #print (indices)  \n",
    "  feature_names = np.array(tfidf.get_feature_names())[indices]\n",
    "  unigrams = [v for v in feature_names if len(v.split(' ')) == 1]\n",
    "  bigrams = [v for v in feature_names if len(v.split(' ')) == 2]\n",
    "  print(\"# '{}':\".format(category))\n",
    "  print(\"  . Most correlated unigrams:\\n       . {}\".format('\\n       . '.join(unigrams[-N:])))\n",
    "  print(\"  . Most correlated bigrams:\\n       . {}\".format('\\n       . '.join(bigrams[-N:])))"
   ]
  },
  {
   "cell_type": "code",
   "execution_count": 93,
   "metadata": {},
   "outputs": [
    {
     "data": {
      "text/plain": [
       "array([[  1.75345607e-04,   4.02487418e-05],\n",
       "       [  9.79335906e-05,   2.21419902e-04],\n",
       "       [  1.85283413e-04,  -9.50895983e-05],\n",
       "       [  9.49910170e-05,  -1.44250154e-05],\n",
       "       [ -8.64179874e-06,   4.09490118e-05],\n",
       "       [  1.49311579e-05,   1.44478863e-04]])"
      ]
     },
     "execution_count": 93,
     "metadata": {},
     "output_type": "execute_result"
    }
   ],
   "source": [
    "from sklearn.manifold import TSNE\n",
    "import matplotlib.pyplot as plt\n",
    "\n",
    "# Sampling a subset of our dataset because t-SNE is computationally expensive\n",
    "#SAMPLE_SIZE = int(len(features) * 0.3)\n",
    "SAMPLE_SIZE = int(len(features) * 0.3)\n",
    "np.random.seed(0)\n",
    "indices = np.random.choice(range(len(features)), size=SAMPLE_SIZE, replace=False)\n",
    "projected_features = TSNE(n_components=2, random_state=0).fit_transform(features[indices])\n",
    "projected_features"
   ]
  },
  {
   "cell_type": "code",
   "execution_count": 144,
   "metadata": {
    "colab": {
     "autoexec": {
      "startup": false,
      "wait_interval": 0
     },
     "base_uri": "https://localhost:8080/",
     "height": 432
    },
    "colab_type": "code",
    "executionInfo": {
     "elapsed": 29893,
     "status": "ok",
     "timestamp": 1515195285119,
     "user": {
      "displayName": "Ahmed Kachkach",
      "photoUrl": "//lh5.googleusercontent.com/-IlbMIIRYYN0/AAAAAAAAAAI/AAAAAAAAACQ/91L3Fdw7uDE/s50-c-k-no/photo.jpg",
      "userId": "107763703931350855934"
     },
     "user_tz": 480
    },
    "id": "TMzD5rlhKMl9",
    "outputId": "41b43229-0e5e-4755-82c5-d02a16fd9059",
    "scrolled": true
   },
   "outputs": [
    {
     "data": {
      "text/plain": [
       "<matplotlib.legend.Legend at 0x7f2491b61050>"
      ]
     },
     "execution_count": 144,
     "metadata": {},
     "output_type": "execute_result"
    },
    {
     "data": {
      "image/png": "[encoded data removed]",
      "text/plain": [
       "<matplotlib.figure.Figure at 0x7f24926fb290>"
      ]
     },
     "metadata": {},
     "output_type": "display_data"
    }
   ],
   "source": [
    "from sklearn.manifold import TSNE\n",
    "import matplotlib.pyplot as plt\n",
    "\n",
    "# Sampling a subset of our dataset because t-SNE is computationally expensive\n",
    "#SAMPLE_SIZE = int(len(features) * 0.3)\n",
    "SAMPLE_SIZE = int(len(features) * 0.3)\n",
    "np.random.seed(0)\n",
    "indices = np.random.choice(range(len(features)), size=SAMPLE_SIZE, replace=False)\n",
    "projected_features = TSNE(n_components=2, random_state=0).fit_transform(features[indices])\n",
    "colors = ['pink', 'green', 'midnightblue', 'orange', 'darkgrey']\n",
    "for category, category_id in sorted(category_to_id.iteritems()):\n",
    "    points = projected_features[(labels[indices] == category_id).values]\n",
    "    plt.scatter(points[:, 0], points[:, 1], s=30, c=colors[category_id], label=category)\n",
    "plt.title(\"tf-idf feature vector for each article, projected on 2 dimensions.\",\n",
    "          fontdict=dict(fontsize=15))\n",
    "plt.legend()"
   ]
  },
  {
   "cell_type": "code",
   "execution_count": 141,
   "metadata": {
    "colab": {
     "autoexec": {
      "startup": false,
      "wait_interval": 0
     },
     "base_uri": "https://localhost:8080/",
     "height": 266
    },
    "colab_type": "code",
    "executionInfo": {
     "elapsed": 339,
     "status": "ok",
     "timestamp": 1515195285534,
     "user": {
      "displayName": "Ahmed Kachkach",
      "photoUrl": "//lh5.googleusercontent.com/-IlbMIIRYYN0/AAAAAAAAAAI/AAAAAAAAACQ/91L3Fdw7uDE/s50-c-k-no/photo.jpg",
      "userId": "107763703931350855934"
     },
     "user_tz": 480
    },
    "id": "s5fao3PD4ki9",
    "outputId": "7eb8328b-38e7-453f-f2d2-13b98f448ca3",
    "scrolled": true
   },
   "outputs": [
    {
     "data": {
      "text/html": [
       "<div>\n",
       "<table border=\"1\" class=\"dataframe\">\n",
       "  <thead>\n",
       "    <tr style=\"text-align: right;\">\n",
       "      <th></th>\n",
       "      <th>category</th>\n",
       "      <th>content</th>\n",
       "      <th>filename</th>\n",
       "      <th>title</th>\n",
       "      <th>category_id</th>\n",
       "    </tr>\n",
       "  </thead>\n",
       "  <tbody>\n",
       "    <tr>\n",
       "      <th>1</th>\n",
       "      <td>frontend_ui</td>\n",
       "      <td>San, Himachal Pradesh\\n \\n ➢ 8+ years of profe...</td>\n",
       "      <td>saidi_reddy.txt</td>\n",
       "      <td>UI Developer (Angular5.0+CLI SASS) - KIPP\\n</td>\n",
       "      <td>0</td>\n",
       "    </tr>\n",
       "  </tbody>\n",
       "</table>\n",
       "</div>"
      ],
      "text/plain": [
       "      category                                            content  \\\n",
       "1  frontend_ui  San, Himachal Pradesh\\n \\n ➢ 8+ years of profe...   \n",
       "\n",
       "          filename                                        title  category_id  \n",
       "1  saidi_reddy.txt  UI Developer (Angular5.0+CLI SASS) - KIPP\\n            0  "
      ]
     },
     "execution_count": 141,
     "metadata": {},
     "output_type": "execute_result"
    }
   ],
   "source": [
    "df[df.content.str.contains('css')]"
   ]
  },
  {
   "cell_type": "markdown",
   "metadata": {
    "colab_type": "text",
    "id": "1XwFNO4re_Fz"
   },
   "source": [
    "## 3. Model training and evaluation"
   ]
  },
  {
   "cell_type": "markdown",
   "metadata": {
    "colab_type": "text",
    "id": "pJ_l3zrQhuAv"
   },
   "source": [
    "### Model evaluation\n",
    "One common mistake when evaluating a model is to train and test it on the same dataset: this is problematic because you this will not evaluate how well the model works in realistic conditions, on unseen data, and models that overfit to the data will seem to perform better. \n",
    "\n",
    "It is common practice to split the data in three parts:\n",
    "1. A training set that the model will be trained on.\n",
    "1. A validation set used for finding the optimal parameters (as discussed previously).\n",
    "1. A test set to evaluate the model’s performance.\n",
    "\n",
    "Since we are not performing a hyperparameter search, we will only use a train/test split.\n",
    "\n",
    "To evaluate each model, we will use the K-fold cross-validation technique: iteratively training the model on different subsets of the data, and testing against the held-out data. scikit-learn provides a utility function, `cross_val_score`, that allows us to run this operation in a single line of code!"
   ]
  },
  {
   "cell_type": "code",
   "execution_count": 96,
   "metadata": {
    "colab": {
     "autoexec": {
      "startup": false,
      "wait_interval": 0
     }
    },
    "colab_type": "code",
    "id": "MPI84Fkoel-a"
   },
   "outputs": [
    {
     "name": "stderr",
     "output_type": "stream",
     "text": [
      "/usr/local/lib/python2.7/dist-packages/sklearn/model_selection/_split.py:581: Warning: The least populated class in y has only 4 members, which is too few. The minimum number of groups for any class cannot be less than n_splits=5.\n",
      "  % (min_groups, self.n_splits)), Warning)\n"
     ]
    }
   ],
   "source": [
    "from sklearn.linear_model import LogisticRegression\n",
    "from sklearn.ensemble import RandomForestClassifier\n",
    "from sklearn.naive_bayes import MultinomialNB\n",
    "\n",
    "from sklearn.model_selection import cross_val_score\n",
    "\n",
    "\n",
    "models = [\n",
    "    RandomForestClassifier(n_estimators=200, max_depth=3, random_state=0),\n",
    "    MultinomialNB(),\n",
    "    LogisticRegression(random_state=0),\n",
    "]\n",
    "CV = 5\n",
    "cv_df = pd.DataFrame(index=range(CV * len(models)))\n",
    "entries = []\n",
    "for model in models:\n",
    "  model_name = model.__class__.__name__\n",
    "  accuracies = cross_val_score(model, features, labels, scoring='accuracy', cv=CV)\n",
    "  for fold_idx, accuracy in enumerate(accuracies):\n",
    "    entries.append((model_name, fold_idx, accuracy))\n",
    "cv_df = pd.DataFrame(entries, columns=['model_name', 'fold_idx', 'accuracy'])"
   ]
  },
  {
   "cell_type": "code",
   "execution_count": 97,
   "metadata": {},
   "outputs": [
    {
     "data": {
      "text/html": [
       "<div>\n",
       "<table border=\"1\" class=\"dataframe\">\n",
       "  <thead>\n",
       "    <tr style=\"text-align: right;\">\n",
       "      <th></th>\n",
       "      <th>model_name</th>\n",
       "      <th>fold_idx</th>\n",
       "      <th>accuracy</th>\n",
       "    </tr>\n",
       "  </thead>\n",
       "  <tbody>\n",
       "    <tr>\n",
       "      <th>0</th>\n",
       "      <td>RandomForestClassifier</td>\n",
       "      <td>0</td>\n",
       "      <td>1.00</td>\n",
       "    </tr>\n",
       "    <tr>\n",
       "      <th>1</th>\n",
       "      <td>RandomForestClassifier</td>\n",
       "      <td>1</td>\n",
       "      <td>0.75</td>\n",
       "    </tr>\n",
       "    <tr>\n",
       "      <th>2</th>\n",
       "      <td>RandomForestClassifier</td>\n",
       "      <td>2</td>\n",
       "      <td>1.00</td>\n",
       "    </tr>\n",
       "    <tr>\n",
       "      <th>3</th>\n",
       "      <td>RandomForestClassifier</td>\n",
       "      <td>3</td>\n",
       "      <td>0.75</td>\n",
       "    </tr>\n",
       "    <tr>\n",
       "      <th>4</th>\n",
       "      <td>RandomForestClassifier</td>\n",
       "      <td>4</td>\n",
       "      <td>1.00</td>\n",
       "    </tr>\n",
       "    <tr>\n",
       "      <th>5</th>\n",
       "      <td>MultinomialNB</td>\n",
       "      <td>0</td>\n",
       "      <td>1.00</td>\n",
       "    </tr>\n",
       "    <tr>\n",
       "      <th>6</th>\n",
       "      <td>MultinomialNB</td>\n",
       "      <td>1</td>\n",
       "      <td>0.75</td>\n",
       "    </tr>\n",
       "    <tr>\n",
       "      <th>7</th>\n",
       "      <td>MultinomialNB</td>\n",
       "      <td>2</td>\n",
       "      <td>0.75</td>\n",
       "    </tr>\n",
       "    <tr>\n",
       "      <th>8</th>\n",
       "      <td>MultinomialNB</td>\n",
       "      <td>3</td>\n",
       "      <td>0.25</td>\n",
       "    </tr>\n",
       "    <tr>\n",
       "      <th>9</th>\n",
       "      <td>MultinomialNB</td>\n",
       "      <td>4</td>\n",
       "      <td>1.00</td>\n",
       "    </tr>\n",
       "    <tr>\n",
       "      <th>10</th>\n",
       "      <td>LogisticRegression</td>\n",
       "      <td>0</td>\n",
       "      <td>1.00</td>\n",
       "    </tr>\n",
       "    <tr>\n",
       "      <th>11</th>\n",
       "      <td>LogisticRegression</td>\n",
       "      <td>1</td>\n",
       "      <td>0.75</td>\n",
       "    </tr>\n",
       "    <tr>\n",
       "      <th>12</th>\n",
       "      <td>LogisticRegression</td>\n",
       "      <td>2</td>\n",
       "      <td>0.75</td>\n",
       "    </tr>\n",
       "    <tr>\n",
       "      <th>13</th>\n",
       "      <td>LogisticRegression</td>\n",
       "      <td>3</td>\n",
       "      <td>0.25</td>\n",
       "    </tr>\n",
       "    <tr>\n",
       "      <th>14</th>\n",
       "      <td>LogisticRegression</td>\n",
       "      <td>4</td>\n",
       "      <td>1.00</td>\n",
       "    </tr>\n",
       "  </tbody>\n",
       "</table>\n",
       "</div>"
      ],
      "text/plain": [
       "                model_name  fold_idx  accuracy\n",
       "0   RandomForestClassifier         0      1.00\n",
       "1   RandomForestClassifier         1      0.75\n",
       "2   RandomForestClassifier         2      1.00\n",
       "3   RandomForestClassifier         3      0.75\n",
       "4   RandomForestClassifier         4      1.00\n",
       "5            MultinomialNB         0      1.00\n",
       "6            MultinomialNB         1      0.75\n",
       "7            MultinomialNB         2      0.75\n",
       "8            MultinomialNB         3      0.25\n",
       "9            MultinomialNB         4      1.00\n",
       "10      LogisticRegression         0      1.00\n",
       "11      LogisticRegression         1      0.75\n",
       "12      LogisticRegression         2      0.75\n",
       "13      LogisticRegression         3      0.25\n",
       "14      LogisticRegression         4      1.00"
      ]
     },
     "execution_count": 97,
     "metadata": {},
     "output_type": "execute_result"
    }
   ],
   "source": [
    "cv_df\n",
    "\n"
   ]
  },
  {
   "cell_type": "code",
   "execution_count": 98,
   "metadata": {
    "colab": {
     "autoexec": {
      "startup": false,
      "wait_interval": 0
     },
     "base_uri": "https://localhost:8080/",
     "height": 434
    },
    "colab_type": "code",
    "executionInfo": {
     "elapsed": 462,
     "status": "ok",
     "timestamp": 1515195300359,
     "user": {
      "displayName": "Ahmed Kachkach",
      "photoUrl": "//lh5.googleusercontent.com/-IlbMIIRYYN0/AAAAAAAAAAI/AAAAAAAAACQ/91L3Fdw7uDE/s50-c-k-no/photo.jpg",
      "userId": "107763703931350855934"
     },
     "user_tz": 480
    },
    "id": "njwq4ZqntBXn",
    "outputId": "923fa9cf-7852-4ede-f209-4c20c05cfb0b"
   },
   "outputs": [
    {
     "data": {
      "text/plain": [
       "<matplotlib.axes._subplots.AxesSubplot at 0x7f24926c26d0>"
      ]
     },
     "execution_count": 98,
     "metadata": {},
     "output_type": "execute_result"
    },
    {
     "data": {
      "image/png": "[encoded data removed]",
      "text/plain": [
       "<matplotlib.figure.Figure at 0x7f2493cd1990>"
      ]
     },
     "metadata": {},
     "output_type": "display_data"
    }
   ],
   "source": [
    "import seaborn as sns\n",
    "sns.boxplot(x='model_name', y='accuracy', data=cv_df)\n",
    "sns.stripplot(x='model_name', y='accuracy', data=cv_df, \n",
    "              size=8, jitter=True, edgecolor=\"gray\", linewidth=2)"
   ]
  },
  {
   "cell_type": "code",
   "execution_count": 99,
   "metadata": {
    "colab": {
     "autoexec": {
      "startup": false,
      "wait_interval": 0
     },
     "base_uri": "https://localhost:8080/",
     "height": 102
    },
    "colab_type": "code",
    "executionInfo": {
     "elapsed": 349,
     "status": "ok",
     "timestamp": 1515195308386,
     "user": {
      "displayName": "Ahmed Kachkach",
      "photoUrl": "//lh5.googleusercontent.com/-IlbMIIRYYN0/AAAAAAAAAAI/AAAAAAAAACQ/91L3Fdw7uDE/s50-c-k-no/photo.jpg",
      "userId": "107763703931350855934"
     },
     "user_tz": 480
    },
    "id": "-DX1gVduotvA",
    "outputId": "908b9d0d-b5b4-4ff9-8b2c-982c26723c52"
   },
   "outputs": [
    {
     "data": {
      "text/plain": [
       "model_name\n",
       "LogisticRegression        0.75\n",
       "MultinomialNB             0.75\n",
       "RandomForestClassifier    0.90\n",
       "Name: accuracy, dtype: float64"
      ]
     },
     "execution_count": 99,
     "metadata": {},
     "output_type": "execute_result"
    }
   ],
   "source": [
    "cv_df.groupby('model_name').accuracy.mean()"
   ]
  },
  {
   "cell_type": "markdown",
   "metadata": {
    "colab_type": "text",
    "id": "ukL-IF2CnHa_"
   },
   "source": [
    "The results for the `RandomForest` model show a large variance, the sign of a model that is overfitting to its training data. Running cross-validation is vital, because results from a single train/test split might be misleading.\n",
    "We also notice that both `MultinomialNB` (Naive Bayes) and `LogisticRegression` perform extremely well, with `LogisticRegression` having a slight advantage with a median accuracy of around 97%!\n",
    "With such results, we could just pack our things and consider the task complete, but it’s good to apply a healthy dose of skepticism especially when results are this good."
   ]
  },
  {
   "cell_type": "markdown",
   "metadata": {
    "colab_type": "text",
    "id": "UWZJZ9OyqCmJ"
   },
   "source": [
    "### 4. Model interpretation\n",
    "\n",
    "It is insufficient to have a model that performs well according to a given metric: we must also have a model that we can understand and whose results we can explain.\n",
    "\n",
    "We will start by training our model on part of the dataset, and then analyze the main sources of misclassification on the test set. One way to eliminate sources of error is to look at the confusion matrix, a matrix used to show the discrepancies between predicted and actual labels."
   ]
  },
  {
   "cell_type": "code",
   "execution_count": 115,
   "metadata": {
    "colab": {
     "autoexec": {
      "startup": false,
      "wait_interval": 0
     }
    },
    "colab_type": "code",
    "collapsed": true,
    "id": "zE5u-IEa5gnj"
   },
   "outputs": [],
   "source": [
    "from sklearn.model_selection import train_test_split\n",
    "\n",
    "model = LogisticRegression(random_state=0)\n",
    "\n",
    "X_train, X_test, y_train, y_test, indices_train, indices_test = train_test_split(features, labels, df.index, test_size=0, random_state=0)\n",
    "model.fit(X_train, y_train)\n",
    "#y_pred_proba = model.predict_proba(X_test)\n",
    "#y_pred = model.predict(X_test)\n",
    "\n",
    "#"
   ]
  },
  {
   "cell_type": "markdown",
   "metadata": {},
   "source": [
    "## We should not do this at all, but I am doing it because we have very few datasets##########\n",
    "\n",
    "X_test = X_train\n",
    "y_test = y_train\n",
    "\n",
    "\n"
   ]
  },
  {
   "cell_type": "code",
   "execution_count": 118,
   "metadata": {
    "collapsed": true
   },
   "outputs": [],
   "source": [
    "X_test = X_train \n",
    "y_test = y_train\n",
    "\n",
    "y_pred_proba = model.predict_proba(X_test) \n",
    "y_pred = model.predict(X_test)"
   ]
  },
  {
   "cell_type": "markdown",
   "metadata": {},
   "source": [
    "## Please note!!!!!!\n",
    "Because of very few datasets, confusion matrix will be BAD. Do not trust this"
   ]
  },
  {
   "cell_type": "code",
   "execution_count": 119,
   "metadata": {
    "colab": {
     "autoexec": {
      "startup": false,
      "wait_interval": 0
     },
     "base_uri": "https://localhost:8080/",
     "height": 434
    },
    "colab_type": "code",
    "executionInfo": {
     "elapsed": 569,
     "status": "ok",
     "timestamp": 1515195302396,
     "user": {
      "displayName": "Ahmed Kachkach",
      "photoUrl": "//lh5.googleusercontent.com/-IlbMIIRYYN0/AAAAAAAAAAI/AAAAAAAAACQ/91L3Fdw7uDE/s50-c-k-no/photo.jpg",
      "userId": "107763703931350855934"
     },
     "user_tz": 480
    },
    "id": "gYv3Q-gJ68ib",
    "outputId": "d4ea3a77-22cc-45a1-82f5-54e2a1a5198f"
   },
   "outputs": [
    {
     "data": {
      "text/plain": [
       "<matplotlib.text.Text at 0x7f2491d86990>"
      ]
     },
     "execution_count": 119,
     "metadata": {},
     "output_type": "execute_result"
    },
    {
     "data": {
      "image/png": "[encoded data removed]",
      "text/plain": [
       "<matplotlib.figure.Figure at 0x7f2491d2fd50>"
      ]
     },
     "metadata": {},
     "output_type": "display_data"
    }
   ],
   "source": [
    "from sklearn.metrics import confusion_matrix\n",
    "import seaborn as sns\n",
    "\n",
    "conf_mat = confusion_matrix(y_test, y_pred)\n",
    "sns.heatmap(conf_mat, annot=True, fmt='d',\n",
    "            xticklabels=category_id_df.category.values, yticklabels=category_id_df.category.values)\n",
    "plt.ylabel('Actual')\n",
    "plt.xlabel('Predicted')"
   ]
  },
  {
   "cell_type": "markdown",
   "metadata": {
    "colab_type": "text",
    "id": "ylfJ2u4UrbDE"
   },
   "source": [
    "Given the extremely high accuracy of our model, the vast majority of the predictions end up on the diagonal (predicted label = actual label), where we want them to be! However, there are a number of misclassifications, and it might be interesting to see what those are caused by:"
   ]
  },
  {
   "cell_type": "code",
   "execution_count": 120,
   "metadata": {
    "colab": {
     "autoexec": {
      "startup": false,
      "wait_interval": 0
     },
     "base_uri": "https://localhost:8080/",
     "height": 494
    },
    "colab_type": "code",
    "collapsed": true,
    "executionInfo": {
     "elapsed": 397,
     "status": "ok",
     "timestamp": 1515195302842,
     "user": {
      "displayName": "Ahmed Kachkach",
      "photoUrl": "//lh5.googleusercontent.com/-IlbMIIRYYN0/AAAAAAAAAAI/AAAAAAAAACQ/91L3Fdw7uDE/s50-c-k-no/photo.jpg",
      "userId": "107763703931350855934"
     },
     "user_tz": 480
    },
    "id": "M9Kiqrtf9Gep",
    "outputId": "efb2b88e-9688-4d59-dc9b-8b5029379134"
   },
   "outputs": [],
   "source": [
    "from IPython.display import display\n",
    "\n",
    "for predicted in category_id_df.category_id:\n",
    "  for actual in category_id_df.category_id:\n",
    "    if predicted != actual and conf_mat[actual, predicted] >= 2:\n",
    "      print(\"'{}' predicted as '{}' : {} examples.\".format(id_to_category[actual], id_to_category[predicted], conf_mat[actual, predicted]))\n",
    "      display(df.loc[indices_test[(y_test == actual) & (y_pred == predicted)]][['title', 'content']])\n",
    "      print('')"
   ]
  },
  {
   "cell_type": "markdown",
   "metadata": {
    "colab_type": "text",
    "id": "6pQwcaB3rtU8"
   },
   "source": [
    "As can be seen above, the misclassified articles are articles that touch on different subjects (for example, articles involving both politics and business) and might hence even be missclassified by humans. This sort of errors will always happen, and it is unrealistic to aim for a model that achieves 100% accuracy.\n",
    "\n",
    "We can also look deeper inside the model and how it works, by finding which terms contribute the most to a document being classified in each of the categories:"
   ]
  },
  {
   "cell_type": "code",
   "execution_count": 121,
   "metadata": {
    "colab": {
     "autoexec": {
      "startup": false,
      "wait_interval": 0
     },
     "base_uri": "https://localhost:8080/",
     "height": 85
    },
    "colab_type": "code",
    "executionInfo": {
     "elapsed": 552,
     "status": "ok",
     "timestamp": 1515195303580,
     "user": {
      "displayName": "Ahmed Kachkach",
      "photoUrl": "//lh5.googleusercontent.com/-IlbMIIRYYN0/AAAAAAAAAAI/AAAAAAAAACQ/91L3Fdw7uDE/s50-c-k-no/photo.jpg",
      "userId": "107763703931350855934"
     },
     "user_tz": 480
    },
    "id": "kzO82ptUKMmA",
    "outputId": "6575f1b7-c069-4542-c091-1bdbc276ade4"
   },
   "outputs": [
    {
     "data": {
      "text/plain": [
       "LogisticRegression(C=1.0, class_weight=None, dual=False, fit_intercept=True,\n",
       "          intercept_scaling=1, max_iter=100, multi_class='ovr', n_jobs=1,\n",
       "          penalty='l2', random_state=0, solver='liblinear', tol=0.0001,\n",
       "          verbose=0, warm_start=False)"
      ]
     },
     "execution_count": 121,
     "metadata": {},
     "output_type": "execute_result"
    }
   ],
   "source": [
    "model.fit(features, labels)"
   ]
  },
  {
   "cell_type": "code",
   "execution_count": 125,
   "metadata": {
    "colab": {
     "autoexec": {
      "startup": false,
      "wait_interval": 0
     },
     "base_uri": "https://localhost:8080/",
     "height": 1122
    },
    "colab_type": "code",
    "executionInfo": {
     "elapsed": 527,
     "status": "ok",
     "timestamp": 1515195304331,
     "user": {
      "displayName": "Ahmed Kachkach",
      "photoUrl": "//lh5.googleusercontent.com/-IlbMIIRYYN0/AAAAAAAAAAI/AAAAAAAAACQ/91L3Fdw7uDE/s50-c-k-no/photo.jpg",
      "userId": "107763703931350855934"
     },
     "user_tz": 480
    },
    "id": "FRSFp-W8KMmE",
    "outputId": "e912590d-6045-4204-edfe-8a8ead0a29de"
   },
   "outputs": [
    {
     "name": "stdout",
     "output_type": "stream",
     "text": [
      "# 'frontend_ui':\n",
      "  . Top unigrams:\n",
      "       . ui\n",
      "       . bootstrap\n",
      "       . jquery\n",
      "       . ajax\n",
      "       . js\n",
      "  . Top bigrams:\n",
      "       . javascript jquery\n",
      "       . ui developer\n",
      "       . html5 css3\n",
      "       . using html\n",
      "       . angular js\n",
      "# 'java':\n",
      "  . Top unigrams:\n",
      "       . spring\n",
      "       . hibernate\n",
      "       . developer\n",
      "       . jsp\n",
      "       . j2ee\n",
      "  . Top bigrams:\n",
      "       . java developer\n",
      "       . oracle database\n",
      "       . spring mvc\n",
      "       . core java\n",
      "       . web services\n",
      "# 'linux_kernel':\n",
      "  . Top unigrams:\n",
      "       . solaris\n",
      "       . kernel\n",
      "       . aix\n",
      "       . linux\n",
      "       . support\n",
      "  . Top bigrams:\n",
      "       . software engineer\n",
      "       . gmail com\n",
      "       . linux unix\n",
      "       . experience working\n",
      "       . shell scripting\n",
      "# 'qa_automation':\n",
      "  . Top unigrams:\n",
      "       . automation\n",
      "       . selenium\n",
      "       . manual\n",
      "       . testing\n",
      "       . qa\n",
      "  . Top bigrams:\n",
      "       . life cycle\n",
      "       . pune maharashtra\n",
      "       . test cases\n",
      "       . integration testing\n",
      "       . ability work\n"
     ]
    }
   ],
   "source": [
    "from sklearn.feature_selection import chi2\n",
    "\n",
    "N = 5\n",
    "for category, category_id in sorted(category_to_id.iteritems()):\n",
    "  indices = np.argsort(model.coef_[category_id])\n",
    "  feature_names = np.array(tfidf.get_feature_names())[indices]\n",
    "  unigrams = [v for v in reversed(feature_names) if len(v.split(' ')) == 1][:N]\n",
    "  bigrams = [v for v in reversed(feature_names) if len(v.split(' ')) == 2][:N]\n",
    "  print(\"# '{}':\".format(category))\n",
    "  print(\"  . Top unigrams:\\n       . {}\".format('\\n       . '.join(unigrams)))\n",
    "  print(\"  . Top bigrams:\\n       . {}\".format('\\n       . '.join(bigrams)))"
   ]
  },
  {
   "cell_type": "code",
   "execution_count": 105,
   "metadata": {
    "colab": {
     "autoexec": {
      "startup": false,
      "wait_interval": 0
     },
     "base_uri": "https://localhost:8080/",
     "height": 102
    },
    "colab_type": "code",
    "executionInfo": {
     "elapsed": 409,
     "status": "ok",
     "timestamp": 1515195304942,
     "user": {
      "displayName": "Ahmed Kachkach",
      "photoUrl": "//lh5.googleusercontent.com/-IlbMIIRYYN0/AAAAAAAAAAI/AAAAAAAAACQ/91L3Fdw7uDE/s50-c-k-no/photo.jpg",
      "userId": "107763703931350855934"
     },
     "user_tz": 480
    },
    "id": "QOyYF6fdRc18",
    "outputId": "2903e229-c003-4dc2-e3d3-965db3db627d"
   },
   "outputs": [
    {
     "data": {
      "text/plain": [
       "Series([], Name: category, dtype: int64)"
      ]
     },
     "execution_count": 105,
     "metadata": {},
     "output_type": "execute_result"
    }
   ],
   "source": [
    "df[df.content.str.lower().str.contains('news website')].category.value_counts()"
   ]
  },
  {
   "cell_type": "code",
   "execution_count": 139,
   "metadata": {
    "colab": {
     "autoexec": {
      "startup": false,
      "wait_interval": 0
     },
     "base_uri": "https://localhost:8080/",
     "height": 272
    },
    "colab_type": "code",
    "executionInfo": {
     "elapsed": 376,
     "status": "ok",
     "timestamp": 1515196010302,
     "user": {
      "displayName": "Ahmed Kachkach",
      "photoUrl": "//lh5.googleusercontent.com/-IlbMIIRYYN0/AAAAAAAAAAI/AAAAAAAAACQ/91L3Fdw7uDE/s50-c-k-no/photo.jpg",
      "userId": "107763703931350855934"
     },
     "user_tz": 480
    },
    "id": "DvmxlZdJGITR",
    "outputId": "5cbf71b6-5604-47c8-9717-49f3cde38d0d"
   },
   "outputs": [
    {
     "name": "stdout",
     "output_type": "stream",
     "text": [
      "\"Company Projects Project Name:- Salary Management Client: - Staff Management Environment:- Core Java, Advanced Java Servlets, JSP, JDBC, Java Beans, Log4j, Web Services-RestFul,My-SQL, Jquery, javaScript Role:- Develop, test, implement and maintain application software. Discription: - It Is Used By The Company/ Organisation Staff Management When Staff Join, Resign, Payment Distribute, Attendance Making, Employee Promotion and Demotion, Leave Employee Check Close Leave (CL) Check, Travelleng Allownce (TA) Report etc.Responsibilities: - Conduct software analysis, programming, testing and debugging Project Name:- School Management Client: - Modern Public School Environment:- Core Java, Advanced Java-Servlets, JSP, JDBC, Java Beans, Spring IOC & MVC, Log4j, Web Services-RestFul, Eclipse IDE, SQL, Hibernate, Jquery, javaScript, Role:- Develop And maintain application software. Discription: - It Is Used By The School Management Staff When Student Registration, Exam, Fee Submit, Attendance Making, Report Card Making and Bulk Sms Sending etc Responsibilities: - Conduct software analysis, programming, testing and debugging\"\n",
      "\n",
      "\n",
      "\n",
      "  - Predicted as: 'java'\n",
      "\n"
     ]
    }
   ],
   "source": [
    "texts = [\"Company Projects Project Name:- Salary Management Client: - Staff Management Environment:- Core Java, Advanced Java Servlets, JSP, JDBC, Java Beans, Log4j, Web Services-RestFul,My-SQL, Jquery, javaScript Role:- Develop, test, implement and maintain application software. Discription: - It Is Used By The Company/ Organisation Staff Management When Staff Join, Resign, Payment Distribute, Attendance Making, Employee Promotion and Demotion, Leave Employee Check Close Leave (CL) Check, Travelleng Allownce (TA) Report etc.Responsibilities: - Conduct software analysis, programming, testing and debugging Project Name:- School Management Client: - Modern Public School Environment:- Core Java, Advanced Java-Servlets, JSP, JDBC, Java Beans, Spring IOC & MVC, Log4j, Web Services-RestFul, Eclipse IDE, SQL, Hibernate, Jquery, javaScript, Role:- Develop And maintain application software. Discription: - It Is Used By The School Management Staff When Student Registration, Exam, Fee Submit, Attendance Making, Report Card Making and Bulk Sms Sending etc Responsibilities: - Conduct software analysis, programming, testing and debugging\"]\n",
    "text_features = tfidf.transform(texts)\n",
    "predictions = model.predict(text_features)\n",
    "for text, predicted in zip(texts, predictions):\n",
    "  print('\"{}\"'.format(text))\n",
    "  print (\"\\n\\n\")  \n",
    "  print(\"  - Predicted as: '{}'\".format(id_to_category[predicted]))\n",
    "  print(\"\")"
   ]
  },
  {
   "cell_type": "markdown",
   "metadata": {},
   "source": [
    "## Resume classification is done"
   ]
  },
  {
   "cell_type": "markdown",
   "metadata": {},
   "source": [
    "## Some rough work"
   ]
  },
  {
   "cell_type": "code",
   "execution_count": 27,
   "metadata": {
    "collapsed": true
   },
   "outputs": [],
   "source": [
    "tags = [                                                                        \n",
    "  \"python, tools\",                                                              \n",
    "  \"linux, tools, ubuntu\",                                                       \n",
    "  \"distributed systems, linux, networking, tools\",                              \n",
    "]                                                                               \n",
    "                                                                                \n",
    "from sklearn.feature_extraction.text import CountVectorizer                     \n",
    "vec = CountVectorizer()                                                         \n",
    "\n"
   ]
  },
  {
   "cell_type": "code",
   "execution_count": 28,
   "metadata": {},
   "outputs": [
    {
     "data": {
      "text/plain": [
       "{'first': 0, 'second': 1, 'third': 2}"
      ]
     },
     "execution_count": 28,
     "metadata": {},
     "output_type": "execute_result"
    }
   ],
   "source": [
    "corpus = [\n",
    "'This is the first document.',\n",
    "'This is the second second document.',\n",
    "'And the third one.',\n",
    "'Is this the first document?',\n",
    "]\n",
    "\n",
    "from sklearn.feature_extraction.text import CountVectorizer \n",
    "#vec = CountVectorizer(lowercase=True, stop_words='english')\n",
    "vec = CountVectorizer(lowercase=True, vocabulary=['first', 'second', 'third'])\n",
    "X = vec.fit_transform(corpus)\n",
    "\n",
    "vec.get_feature_names()\n",
    "vec.get_stop_words()\n",
    "vec.vocabulary_\n"
   ]
  },
  {
   "cell_type": "code",
   "execution_count": 28,
   "metadata": {
    "collapsed": true
   },
   "outputs": [],
   "source": [
    "import pickle\n",
    "with open(\"keyword_conf/keywords.pkl\", \"rb\") as fp:                             \n",
    "    keywords = pickle.load(fp)\n",
    "fp.close()\n",
    "keywords=['first', 'second']"
   ]
  },
  {
   "cell_type": "code",
   "execution_count": 151,
   "metadata": {},
   "outputs": [
    {
     "name": "stdout",
     "output_type": "stream",
     "text": [
      "['This is the first document.', 'This is the second second document.', 'And the third one.', 'Is this the first document?']\n",
      "TfidfVectorizer(analyzer=u'word', binary=False, decode_error=u'strict',\n",
      "        dtype=<type 'numpy.int64'>, encoding='latin-1', input=u'content',\n",
      "        lowercase=True, max_df=1.0, max_features=None, min_df=1,\n",
      "        ngram_range=(1, 2), norm=u'l2', preprocessor=None, smooth_idf=True,\n",
      "        stop_words=None, strip_accents=None, sublinear_tf=False,\n",
      "        token_pattern=u'(?u)\\\\b\\\\w\\\\w+\\\\b', tokenizer=None, use_idf=True,\n",
      "        vocabulary=['linux admin', 'restore', 'solaris', 'nosql', 'performance testing', 'ip networking', 'jre', 'rest', 'jboss-ws', 'gdb', 'strace', 'mysql', 'responsive', 'disk', 'xml', 'java gui', 'redhat', 'selenium', 'whatwg', 'quality assurance', 'networking', 'linux system administration', 'junit', '...ring', 'dom', 'mobile', 'svg', 'bootstrap', 'qa engineer', 'django', 'volume manager', 'cpu', 'ssh'])\n",
      "[ 0.  0.  0.  0.  0.  0.  0.  0.  0.  0.  0.  0.  0.  0.  0.  0.  0.  0.\n",
      "  0.  0.  0.  0.  0.  0.  0.  0.  0.  0.  0.  0.  0.  0.  0.  0.  0.  0.\n",
      "  0.  0.  0.  0.  0.  0.  0.  0.  0.  0.  0.  0.  0.  0.  0.  0.  0.  0.\n",
      "  0.  0.  0.  0.  0.  0.  0.  0.  0.  0.  0.  0.  0.  0.  0.  0.  0.  0.\n",
      "  0.  0.  0.  0.  0.  0.  0.  0.  0.  0.  0.  0.  0.  0.  0.  0.  0.  0.\n",
      "  0.  0.  0.  0.  0.  0.  0.  0.  0.  0.  0.  0.  0.  0.  0.  0.  0.  0.\n",
      "  0.  0.  0.  0.  0.  0.  0.  0.  0.  0.  0.  0.  0.  0.  0.  0.  0.  0.\n",
      "  0.  0.  0.  0.  0.  0.  0.  0.  0.  0.  0.  0.  0.  0.  0.  0.  0.  0.\n",
      "  0.  0.  0.  0.  0.  0.  0.  0.  0.  0.  0.  0.  0.  0.  0.  0.  0.  0.\n",
      "  0.  0.  0.  0.  0.  0.  0.  0.  0.  0.  0.  0.  0.  0.  0.  0.  0.  0.\n",
      "  0.  0.  0.  0.  0.  0.  0.  0.  0.  0.  0.  0.  0.  0.  0.  0.  0.  0.\n",
      "  0.  0.  0.  0.  0.]\n"
     ]
    }
   ],
   "source": [
    "corpus = [\n",
    "'This is the first document.',\n",
    "'This is the second second document.',\n",
    "'And the third one.',\n",
    "'Is this the first document?',\n",
    "]\n",
    "\n",
    "from sklearn.feature_extraction.text import TfidfVectorizer\n",
    "tfidf = TfidfVectorizer(min_df=1, encoding='latin-1', ngram_range=(1, 2), vocabulary=keywords)\n",
    "\n",
    "print (corpus)\n",
    "print (tfidf)\n",
    "features = tfidf.fit_transform(corpus)\n",
    "\n",
    "print(features.toarray()[1])\n"
   ]
  }
 ],
 "metadata": {
  "colab": {
   "collapsed_sections": [],
   "default_view": {},
   "name": "\"Automatic document classification\" notebook",
   "provenance": [
    {
     "file_id": "1MWGhLyhIGtQyApqDs34ys7tT5ZdjlUaT",
     "timestamp": 1515605944693
    }
   ],
   "toc_visible": true,
   "version": "0.3.2",
   "views": {}
  },
  "kernelspec": {
   "display_name": "Python 3",
   "language": "python",
   "name": "python3"
  },
  "language_info": {
   "codemirror_mode": {
    "name": "ipython",
    "version": 3
   },
   "file_extension": ".py",
   "mimetype": "text/x-python",
   "name": "python",
   "nbconvert_exporter": "python",
   "pygments_lexer": "ipython3",
   "version": "3.5.2"
  }
 },
 "nbformat": 4,
 "nbformat_minor": 1
}
