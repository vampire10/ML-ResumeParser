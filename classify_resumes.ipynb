{
 "cells": [
  {
   "cell_type": "code",
   "execution_count": 1,
   "metadata": {},
   "outputs": [],
   "source": [
    "import textract\n",
    "#from nltk import word_tokenize\n",
    "import os\n",
    "import numpy as np\n",
    "import sys\n",
    "import pandas as pd\n",
    "import re\n",
    "#import shutil\n",
    "#import time\n",
    "#import pickle\n",
    "from collections import Counter\n",
    "from sklearn.model_selection import train_test_split"
   ]
  },
  {
   "cell_type": "code",
   "execution_count": 2,
   "metadata": {},
   "outputs": [
    {
     "name": "stdout",
     "output_type": "stream",
     "text": [
      "/home/sohail/Desktop/DEskTop/resume_classification/RESUME_DATA/java\n",
      "/home/sohail/Desktop/DEskTop/resume_classification/RESUME_DATA/c++\n",
      "/home/sohail/Desktop/DEskTop/resume_classification/RESUME_DATA/python\n",
      "/home/sohail/Desktop/DEskTop/resume_classification/RESUME_DATA/kernel\n"
     ]
    }
   ],
   "source": [
    "##preprocess data\n",
    "data_path = '/home/sohail/Desktop/DEskTop/resume_classification/RESUME_DATA'\n",
    "#folders = os.listdir(data_path)\n",
    "folders = ['java', 'c++', 'python', 'kernel']\n",
    "#print(folders)\n",
    "data = []\n",
    "labels = []\n",
    "for folder in folders:\n",
    "    folder_path = os.path.join(data_path, folder)\n",
    "    print(folder_path)\n",
    "    files = os.listdir(folder_path)\n",
    "    for file in files:\n",
    "        file_path = os.path.join(folder_path, file)\n",
    "        text = \" \".join(re.split(\"\\W+\", textract.process(file_path).decode('utf-8')))\n",
    "        data.append(text)\n",
    "        labels.append(folder)\n",
    "#train_data, test_data, train_label, test_label = train_test_split(data, label, shuffle=True)        "
   ]
  },
  {
   "cell_type": "code",
   "execution_count": 3,
   "metadata": {},
   "outputs": [
    {
     "name": "stdout",
     "output_type": "stream",
     "text": [
      "(1627, 35722)\n",
      "(543, 35722)\n"
     ]
    }
   ],
   "source": [
    "##convert text to number\n",
    "from sklearn.feature_extraction.text import TfidfVectorizer\n",
    "tfidf = TfidfVectorizer(sublinear_tf=True, min_df=1, norm='l2', encoding='latin-1', \n",
    "                        stop_words='english')\n",
    "train_data, test_data, train_label, test_label = train_test_split(data, labels, shuffle=True)\n",
    "train_feature_matrix = tfidf.fit_transform(train_data).toarray()\n",
    "test_feature_matrix = tfidf.transform(test_data).toarray()\n",
    "print(train_feature_matrix.shape)\n",
    "print(test_feature_matrix.shape)"
   ]
  },
  {
   "cell_type": "code",
   "execution_count": 4,
   "metadata": {},
   "outputs": [
    {
     "name": "stdout",
     "output_type": "stream",
     "text": [
      "[LibLinear]('LogisticRegression', 0.7476979742173112)\n"
     ]
    }
   ],
   "source": [
    "from sklearn.linear_model import LogisticRegression\n",
    "# from sklearn.ensemble import RandomForestClassifier\n",
    "# from sklearn.naive_bayes import MultinomialNB\n",
    "# from sklearn.svm import LinearSVC\n",
    "#from sklearn.ensemble import GradientBoostingClassifier\n",
    "# from sklearn.tree import DecisionTreeClassifier\n",
    "#from sklearn.neural_network import MLPClassifier\n",
    "#from sklearn.neural_network import BernoulliRBM\n",
    "#from sklearn.neural_network import MLPRegressor\n",
    "\n",
    "#from sklearn.gaussian_process import GaussianProcessClassifier\n",
    "#from sklearn.gaussian_process.kernels import RBF\n",
    "#from sklearn.tree import DecisionTreeClassifier\n",
    "#from sklearn.ensemble import AdaBoostClassifier\n",
    "#from sklearn.naive_bayes import GaussianNB\n",
    "#from sklearn.discriminant_analysis import QuadraticDiscriminantAnalysis\n",
    "\n",
    "#model = GradientBoostingClassifier(n_estimators=200, max_depth=3, random_state=0, verbose=2)\n",
    "#model = MLPClassifier(alpha=1, verbose=2)\n",
    "#model = MLPRegressor(verbose=2)\n",
    "#model = GaussianProcessClassifier(1.0 * RBF(1.0))\n",
    "#model = DecisionTreeClassifier(max_depth=5)\n",
    "#model = AdaBoostClassifier()\n",
    "#model = QuadraticDiscriminantAnalysis()\n",
    "model = LogisticRegression(verbose=1)\n",
    "\n",
    "model.fit(train_feature_matrix, train_label)\n",
    "acc = model.score(test_feature_matrix, test_label)\n",
    "print((model.__class__.__name__, acc))\n"
   ]
  },
  {
   "cell_type": "code",
   "execution_count": 5,
   "metadata": {},
   "outputs": [
    {
     "data": {
      "text/plain": [
       "['C',\n",
       " '__class__',\n",
       " '__delattr__',\n",
       " '__dict__',\n",
       " '__dir__',\n",
       " '__doc__',\n",
       " '__eq__',\n",
       " '__format__',\n",
       " '__ge__',\n",
       " '__getattribute__',\n",
       " '__getstate__',\n",
       " '__gt__',\n",
       " '__hash__',\n",
       " '__init__',\n",
       " '__le__',\n",
       " '__lt__',\n",
       " '__module__',\n",
       " '__ne__',\n",
       " '__new__',\n",
       " '__reduce__',\n",
       " '__reduce_ex__',\n",
       " '__repr__',\n",
       " '__setattr__',\n",
       " '__setstate__',\n",
       " '__sizeof__',\n",
       " '__str__',\n",
       " '__subclasshook__',\n",
       " '__weakref__',\n",
       " '_estimator_type',\n",
       " '_get_param_names',\n",
       " '_predict_proba_lr',\n",
       " 'class_weight',\n",
       " 'classes_',\n",
       " 'coef_',\n",
       " 'decision_function',\n",
       " 'densify',\n",
       " 'dual',\n",
       " 'fit',\n",
       " 'fit_intercept',\n",
       " 'get_params',\n",
       " 'intercept_',\n",
       " 'intercept_scaling',\n",
       " 'max_iter',\n",
       " 'multi_class',\n",
       " 'n_iter_',\n",
       " 'n_jobs',\n",
       " 'penalty',\n",
       " 'predict',\n",
       " 'predict_log_proba',\n",
       " 'predict_proba',\n",
       " 'random_state',\n",
       " 'score',\n",
       " 'set_params',\n",
       " 'solver',\n",
       " 'sparsify',\n",
       " 'tol',\n",
       " 'verbose',\n",
       " 'warm_start']"
      ]
     },
     "execution_count": 5,
     "metadata": {},
     "output_type": "execute_result"
    }
   ],
   "source": [
    "dir(model)"
   ]
  },
  {
   "cell_type": "code",
   "execution_count": 11,
   "metadata": {},
   "outputs": [
    {
     "ename": "AttributeError",
     "evalue": "'LogisticRegression' object has no attribute 'param_grid'",
     "output_type": "error",
     "traceback": [
      "\u001b[0;31m---------------------------------------------------------------------------\u001b[0m",
      "\u001b[0;31mAttributeError\u001b[0m                            Traceback (most recent call last)",
      "\u001b[0;32m<ipython-input-11-143671a2701e>\u001b[0m in \u001b[0;36m<module>\u001b[0;34m()\u001b[0m\n\u001b[0;32m----> 1\u001b[0;31m \u001b[0mmodel\u001b[0m\u001b[0;34m.\u001b[0m\u001b[0mparam_grid\u001b[0m\u001b[0;34m\u001b[0m\u001b[0m\n\u001b[0m",
      "\u001b[0;31mAttributeError\u001b[0m: 'LogisticRegression' object has no attribute 'param_grid'"
     ]
    }
   ],
   "source": [
    "model.param_grid"
   ]
  },
  {
   "cell_type": "code",
   "execution_count": null,
   "metadata": {},
   "outputs": [],
   "source": [
    "model_acc = [('GradientBoostingClassifier', 0.9023941068139963), ('MLPClassifier', 0.7550644567219152), \n",
    "            ('GaussianProcessClassifier', 0.852670349907919), ('AdaBoostClassifier', 0.6077348066298343)]"
   ]
  },
  {
   "cell_type": "code",
   "execution_count": 11,
   "metadata": {},
   "outputs": [],
   "source": [
    "import pickle\n",
    "data_save = {'train_data':train_feature_matrix, 'test_data':test_feature_matrix, 'train_label':train_label, 'text_label':test_label }\n",
    "file = open('/home/sohail/Desktop/DEskTop/resume_classification/data.pkl', 'wb')\n",
    "pickle.dump(data_save, file)\n",
    "file.close()"
   ]
  },
  {
   "cell_type": "code",
   "execution_count": 27,
   "metadata": {},
   "outputs": [],
   "source": [
    "##model fitting\n",
    "from sklearn.linear_model import LogisticRegression\n",
    "from sklearn.model_selection import cross_val_score\n",
    "model = LogisticRegression(random_state=0)\n",
    "# model.fit(feature_matrix,train_label)\n",
    "# test_data_mat = tfidf.transform(test_data).toarray()\n",
    "# model.score(test_data_mat, test_label)\n",
    "acc = cross_val_score(model, feature_matrix, labels, scoring='accuracy', cv=5)"
   ]
  },
  {
   "cell_type": "code",
   "execution_count": 29,
   "metadata": {},
   "outputs": [
    {
     "data": {
      "text/plain": [
       "0.7456295367199643"
      ]
     },
     "execution_count": 29,
     "metadata": {},
     "output_type": "execute_result"
    }
   ],
   "source": [
    "np.mean(acc)"
   ]
  },
  {
   "cell_type": "code",
   "execution_count": 54,
   "metadata": {},
   "outputs": [
    {
     "name": "stdout",
     "output_type": "stream",
     "text": [
      "[0.82298851 0.78390805 0.85057471 0.80138568 0.78472222]\n",
      "[0.58390805 0.58390805 0.58390805 0.58660508 0.58796296]\n",
      "[0.88965517 0.85287356 0.91264368 0.91685912 0.91666667]\n",
      "[0.5908046  0.58390805 0.5908046  0.59815242 0.59490741]\n",
      "[0.75402299 0.71954023 0.75862069 0.74364896 0.75231481]\n",
      "[0.88965517 0.84367816 0.86436782 0.86143187 0.87962963]\n"
     ]
    },
    {
     "data": {
      "text/html": [
       "<div>\n",
       "<style scoped>\n",
       "    .dataframe tbody tr th:only-of-type {\n",
       "        vertical-align: middle;\n",
       "    }\n",
       "\n",
       "    .dataframe tbody tr th {\n",
       "        vertical-align: top;\n",
       "    }\n",
       "\n",
       "    .dataframe thead th {\n",
       "        text-align: right;\n",
       "    }\n",
       "</style>\n",
       "<table border=\"1\" class=\"dataframe\">\n",
       "  <thead>\n",
       "    <tr style=\"text-align: right;\">\n",
       "      <th></th>\n",
       "      <th>model_name</th>\n",
       "      <th>accuracy</th>\n",
       "    </tr>\n",
       "  </thead>\n",
       "  <tbody>\n",
       "    <tr>\n",
       "      <th>0</th>\n",
       "      <td>DecisionTreeClassifier</td>\n",
       "      <td>0.808716</td>\n",
       "    </tr>\n",
       "    <tr>\n",
       "      <th>1</th>\n",
       "      <td>RandomForestClassifier</td>\n",
       "      <td>0.585258</td>\n",
       "    </tr>\n",
       "    <tr>\n",
       "      <th>2</th>\n",
       "      <td>GradientBoostingClassifier</td>\n",
       "      <td>0.897740</td>\n",
       "    </tr>\n",
       "    <tr>\n",
       "      <th>3</th>\n",
       "      <td>MultinomialNB</td>\n",
       "      <td>0.591715</td>\n",
       "    </tr>\n",
       "    <tr>\n",
       "      <th>4</th>\n",
       "      <td>LogisticRegression</td>\n",
       "      <td>0.745630</td>\n",
       "    </tr>\n",
       "    <tr>\n",
       "      <th>5</th>\n",
       "      <td>LinearSVC</td>\n",
       "      <td>0.867753</td>\n",
       "    </tr>\n",
       "  </tbody>\n",
       "</table>\n",
       "</div>"
      ],
      "text/plain": [
       "                   model_name  accuracy\n",
       "0      DecisionTreeClassifier  0.808716\n",
       "1      RandomForestClassifier  0.585258\n",
       "2  GradientBoostingClassifier  0.897740\n",
       "3               MultinomialNB  0.591715\n",
       "4          LogisticRegression  0.745630\n",
       "5                   LinearSVC  0.867753"
      ]
     },
     "execution_count": 54,
     "metadata": {},
     "output_type": "execute_result"
    }
   ],
   "source": [
    "from sklearn.linear_model import LogisticRegression\n",
    "from sklearn.ensemble import RandomForestClassifier\n",
    "from sklearn.naive_bayes import MultinomialNB\n",
    "from sklearn.svm import LinearSVC\n",
    "from sklearn.ensemble import GradientBoostingClassifier\n",
    "from sklearn.tree import DecisionTreeClassifier\n",
    "\n",
    "from sklearn.model_selection import cross_val_score\n",
    "\n",
    "models = [\n",
    "    DecisionTreeClassifier(),\n",
    "    RandomForestClassifier(n_estimators=200, max_depth=3, random_state=0),\n",
    "    GradientBoostingClassifier(n_estimators=200, max_depth=3, random_state=0),\n",
    "    MultinomialNB(),\n",
    "    LogisticRegression(random_state=0),\n",
    "    LinearSVC(random_state=0)\n",
    "]\n",
    "CV = 5\n",
    "cv_df = pd.DataFrame(index=range(CV * len(models)))\n",
    "entries = []\n",
    "for model in models:\n",
    "  model_name = model.__class__.__name__\n",
    "  accuracies = cross_val_score(model, feature_matrix, labels, scoring='accuracy', cv=CV)\n",
    "  print(accuracies)  \n",
    "  entries.append((model_name, np.mean(accuracies)))  \n",
    "#   for fold_idx, accuracy in enumerate(accuracies):\n",
    "#     entries.append((model_name, fold_idx, accuracy))\n",
    "#cv_df = pd.DataFrame(entries, columns=['model_name', 'fold_idx', 'accuracy'])\n",
    "cv_df = pd.DataFrame(entries, columns=['model_name', 'accuracy'])\n",
    "cv_df                 "
   ]
  },
  {
   "cell_type": "code",
   "execution_count": 45,
   "metadata": {
    "scrolled": true
   },
   "outputs": [
    {
     "data": {
      "text/html": [
       "<div>\n",
       "<style scoped>\n",
       "    .dataframe tbody tr th:only-of-type {\n",
       "        vertical-align: middle;\n",
       "    }\n",
       "\n",
       "    .dataframe tbody tr th {\n",
       "        vertical-align: top;\n",
       "    }\n",
       "\n",
       "    .dataframe thead th {\n",
       "        text-align: right;\n",
       "    }\n",
       "</style>\n",
       "<table border=\"1\" class=\"dataframe\">\n",
       "  <thead>\n",
       "    <tr style=\"text-align: right;\">\n",
       "      <th></th>\n",
       "      <th>model_name</th>\n",
       "      <th>fold_idx</th>\n",
       "      <th>accuracy</th>\n",
       "    </tr>\n",
       "  </thead>\n",
       "  <tbody>\n",
       "    <tr>\n",
       "      <th>0</th>\n",
       "      <td>RandomForestClassifier</td>\n",
       "      <td>0</td>\n",
       "      <td>0.583908</td>\n",
       "    </tr>\n",
       "    <tr>\n",
       "      <th>1</th>\n",
       "      <td>RandomForestClassifier</td>\n",
       "      <td>1</td>\n",
       "      <td>0.583908</td>\n",
       "    </tr>\n",
       "    <tr>\n",
       "      <th>2</th>\n",
       "      <td>RandomForestClassifier</td>\n",
       "      <td>2</td>\n",
       "      <td>0.583908</td>\n",
       "    </tr>\n",
       "    <tr>\n",
       "      <th>3</th>\n",
       "      <td>RandomForestClassifier</td>\n",
       "      <td>3</td>\n",
       "      <td>0.586605</td>\n",
       "    </tr>\n",
       "    <tr>\n",
       "      <th>4</th>\n",
       "      <td>RandomForestClassifier</td>\n",
       "      <td>4</td>\n",
       "      <td>0.587963</td>\n",
       "    </tr>\n",
       "    <tr>\n",
       "      <th>5</th>\n",
       "      <td>MultinomialNB</td>\n",
       "      <td>0</td>\n",
       "      <td>0.590805</td>\n",
       "    </tr>\n",
       "    <tr>\n",
       "      <th>6</th>\n",
       "      <td>MultinomialNB</td>\n",
       "      <td>1</td>\n",
       "      <td>0.583908</td>\n",
       "    </tr>\n",
       "    <tr>\n",
       "      <th>7</th>\n",
       "      <td>MultinomialNB</td>\n",
       "      <td>2</td>\n",
       "      <td>0.590805</td>\n",
       "    </tr>\n",
       "    <tr>\n",
       "      <th>8</th>\n",
       "      <td>MultinomialNB</td>\n",
       "      <td>3</td>\n",
       "      <td>0.598152</td>\n",
       "    </tr>\n",
       "    <tr>\n",
       "      <th>9</th>\n",
       "      <td>MultinomialNB</td>\n",
       "      <td>4</td>\n",
       "      <td>0.594907</td>\n",
       "    </tr>\n",
       "    <tr>\n",
       "      <th>10</th>\n",
       "      <td>LogisticRegression</td>\n",
       "      <td>0</td>\n",
       "      <td>0.754023</td>\n",
       "    </tr>\n",
       "    <tr>\n",
       "      <th>11</th>\n",
       "      <td>LogisticRegression</td>\n",
       "      <td>1</td>\n",
       "      <td>0.719540</td>\n",
       "    </tr>\n",
       "    <tr>\n",
       "      <th>12</th>\n",
       "      <td>LogisticRegression</td>\n",
       "      <td>2</td>\n",
       "      <td>0.758621</td>\n",
       "    </tr>\n",
       "    <tr>\n",
       "      <th>13</th>\n",
       "      <td>LogisticRegression</td>\n",
       "      <td>3</td>\n",
       "      <td>0.743649</td>\n",
       "    </tr>\n",
       "    <tr>\n",
       "      <th>14</th>\n",
       "      <td>LogisticRegression</td>\n",
       "      <td>4</td>\n",
       "      <td>0.752315</td>\n",
       "    </tr>\n",
       "    <tr>\n",
       "      <th>15</th>\n",
       "      <td>LinearSVC</td>\n",
       "      <td>0</td>\n",
       "      <td>0.889655</td>\n",
       "    </tr>\n",
       "    <tr>\n",
       "      <th>16</th>\n",
       "      <td>LinearSVC</td>\n",
       "      <td>1</td>\n",
       "      <td>0.843678</td>\n",
       "    </tr>\n",
       "    <tr>\n",
       "      <th>17</th>\n",
       "      <td>LinearSVC</td>\n",
       "      <td>2</td>\n",
       "      <td>0.864368</td>\n",
       "    </tr>\n",
       "    <tr>\n",
       "      <th>18</th>\n",
       "      <td>LinearSVC</td>\n",
       "      <td>3</td>\n",
       "      <td>0.861432</td>\n",
       "    </tr>\n",
       "    <tr>\n",
       "      <th>19</th>\n",
       "      <td>LinearSVC</td>\n",
       "      <td>4</td>\n",
       "      <td>0.879630</td>\n",
       "    </tr>\n",
       "  </tbody>\n",
       "</table>\n",
       "</div>"
      ],
      "text/plain": [
       "                model_name  fold_idx  accuracy\n",
       "0   RandomForestClassifier         0  0.583908\n",
       "1   RandomForestClassifier         1  0.583908\n",
       "2   RandomForestClassifier         2  0.583908\n",
       "3   RandomForestClassifier         3  0.586605\n",
       "4   RandomForestClassifier         4  0.587963\n",
       "5            MultinomialNB         0  0.590805\n",
       "6            MultinomialNB         1  0.583908\n",
       "7            MultinomialNB         2  0.590805\n",
       "8            MultinomialNB         3  0.598152\n",
       "9            MultinomialNB         4  0.594907\n",
       "10      LogisticRegression         0  0.754023\n",
       "11      LogisticRegression         1  0.719540\n",
       "12      LogisticRegression         2  0.758621\n",
       "13      LogisticRegression         3  0.743649\n",
       "14      LogisticRegression         4  0.752315\n",
       "15               LinearSVC         0  0.889655\n",
       "16               LinearSVC         1  0.843678\n",
       "17               LinearSVC         2  0.864368\n",
       "18               LinearSVC         3  0.861432\n",
       "19               LinearSVC         4  0.879630"
      ]
     },
     "execution_count": 45,
     "metadata": {},
     "output_type": "execute_result"
    }
   ],
   "source": [
    "cv_df"
   ]
  },
  {
   "cell_type": "code",
   "execution_count": 4,
   "metadata": {},
   "outputs": [
    {
     "data": {
      "text/html": [
       "<div>\n",
       "<style scoped>\n",
       "    .dataframe tbody tr th:only-of-type {\n",
       "        vertical-align: middle;\n",
       "    }\n",
       "\n",
       "    .dataframe tbody tr th {\n",
       "        vertical-align: top;\n",
       "    }\n",
       "\n",
       "    .dataframe thead th {\n",
       "        text-align: right;\n",
       "    }\n",
       "</style>\n",
       "<table border=\"1\" class=\"dataframe\">\n",
       "  <thead>\n",
       "    <tr style=\"text-align: right;\">\n",
       "      <th></th>\n",
       "      <th>index</th>\n",
       "      <th>model</th>\n",
       "      <th>accuracy</th>\n",
       "    </tr>\n",
       "  </thead>\n",
       "  <tbody>\n",
       "    <tr>\n",
       "      <th>0</th>\n",
       "      <td>0</td>\n",
       "      <td>DecisionTreeClassifier</td>\n",
       "      <td>0.808716</td>\n",
       "    </tr>\n",
       "    <tr>\n",
       "      <th>1</th>\n",
       "      <td>1</td>\n",
       "      <td>RandomForestClassifier</td>\n",
       "      <td>0.585258</td>\n",
       "    </tr>\n",
       "    <tr>\n",
       "      <th>2</th>\n",
       "      <td>2</td>\n",
       "      <td>GradientBoostingClassifier</td>\n",
       "      <td>0.897740</td>\n",
       "    </tr>\n",
       "    <tr>\n",
       "      <th>3</th>\n",
       "      <td>3</td>\n",
       "      <td>MultinomialNB</td>\n",
       "      <td>0.591715</td>\n",
       "    </tr>\n",
       "    <tr>\n",
       "      <th>4</th>\n",
       "      <td>4</td>\n",
       "      <td>LogisticRegression</td>\n",
       "      <td>0.745630</td>\n",
       "    </tr>\n",
       "    <tr>\n",
       "      <th>5</th>\n",
       "      <td>5</td>\n",
       "      <td>LinearSVC</td>\n",
       "      <td>0.867753</td>\n",
       "    </tr>\n",
       "  </tbody>\n",
       "</table>\n",
       "</div>"
      ],
      "text/plain": [
       "   index                       model  accuracy\n",
       "0      0      DecisionTreeClassifier  0.808716\n",
       "1      1      RandomForestClassifier  0.585258\n",
       "2      2  GradientBoostingClassifier  0.897740\n",
       "3      3               MultinomialNB  0.591715\n",
       "4      4          LogisticRegression  0.745630\n",
       "5      5                   LinearSVC  0.867753"
      ]
     },
     "execution_count": 4,
     "metadata": {},
     "output_type": "execute_result"
    }
   ],
   "source": [
    "import pandas as pd\n",
    "acc = [(0, 'DecisionTreeClassifier', 0.808716),(1, 'RandomForestClassifier', 0.585258), \n",
    "        (2, 'GradientBoostingClassifier', 0.897740), \n",
    "         (3, 'MultinomialNB', 0.591715), (4, 'LogisticRegression', 0.745630), (5, 'LinearSVC', 0.867753) ]\n",
    "df_acc = pd.DataFrame(acc, columns=['index', 'model', 'accuracy'])\n",
    "df_acc"
   ]
  },
  {
   "cell_type": "code",
   "execution_count": null,
   "metadata": {},
   "outputs": [],
   "source": [
    "# import numpy as np\n",
    "# import matplotlib.pyplot as plt\n",
    "# from matplotlib.colors import ListedColormap\n",
    "# from sklearn.model_selection import train_test_split\n",
    "# from sklearn.preprocessing import StandardScaler\n",
    "# from sklearn.datasets import make_moons, make_circles, make_classification\n",
    "# from sklearn.neural_network import MLPClassifier\n",
    "# from sklearn.neighbors import KNeighborsClassifier\n",
    "# from sklearn.svm import SVC\n",
    "# from sklearn.gaussian_process import GaussianProcessClassifier\n",
    "# from sklearn.gaussian_process.kernels import RBF\n",
    "# from sklearn.tree import DecisionTreeClassifier\n",
    "# from sklearn.ensemble import RandomForestClassifier, AdaBoostClassifier\n",
    "# from sklearn.naive_bayes import GaussianNB\n",
    "# from sklearn.discriminant_analysis import QuadraticDiscriminantAnalysis\n"
   ]
  },
  {
   "cell_type": "code",
   "execution_count": null,
   "metadata": {},
   "outputs": [],
   "source": [
    "from sklearn.svm import SVC\n",
    "from sklearn.gaussian_process import GaussianProcessClassifier\n",
    "from sklearn.gaussian_process.kernels import RBF\n",
    "#from sklearn.tree import DecisionTreeClassifier\n",
    "from sklearn.ensemble import AdaBoostClassifier\n",
    "#from sklearn.naive_bayes import GaussianNB\n",
    "from sklearn.discriminant_analysis import QuadraticDiscriminantAnalysis\n",
    "\n",
    "from sklearn.model_selection import cross_val_score\n",
    "\n",
    "models = [\n",
    "    GaussianProcessClassifier(1.0 * RBF(1.0)),\n",
    "    #DecisionTreeClassifier(max_depth=5),\n",
    "    AdaBoostClassifier(),\n",
    "    QuadraticDiscriminantAnalysis()\n",
    "]\n",
    "CV = 5\n",
    "entries = []\n",
    "for model in models:\n",
    "  model_name = model.__class__.__name__\n",
    "  accuracies = cross_val_score(model, train_feature_matrix, labels, scoring='accuracy', cv=CV)\n",
    "  print(accuracies)  \n",
    "  entries.append((model_name, np.mean(accuracies)))  \n",
    "#   for fold_idx, accuracy in enumerate(accuracies):\n",
    "#     entries.append((model_name, fold_idx, accuracy))\n",
    "#cv_df = pd.DataFrame(entries, columns=['model_name', 'fold_idx', 'accuracy'])\n",
    "cv_df1 = pd.DataFrame(entries, columns=['model_name', 'accuracy'])\n",
    "cv_df1"
   ]
  },
  {
   "cell_type": "code",
   "execution_count": null,
   "metadata": {},
   "outputs": [],
   "source": [
    "from sklearn.neural_network import BernoulliRBM\n",
    "from sklearn.neural_network import MLPClassifier\n",
    "from sklearn.neural_network import MLPRegressor\n",
    "\n",
    "train_data, test_data, train_label, test_label = train_test_split(data, label, shuffle=True)\n",
    "\n",
    "model = [\n",
    "    BernoulliRBM(),\n",
    "    MLPClassifier(alpha=1),\n",
    "    MLPRegressor()\n",
    "]"
   ]
  },
  {
   "cell_type": "code",
   "execution_count": 55,
   "metadata": {},
   "outputs": [
    {
     "data": {
      "image/png": "[encoded data removed]",
      "text/plain": [
       "<Figure size 432x288 with 1 Axes>"
      ]
     },
     "metadata": {},
     "output_type": "display_data"
    }
   ],
   "source": [
    "import seaborn as sns\n",
    "import matplotlib.pyplot as plt\n",
    "sns.boxplot(x='model_name', y='accuracy', data=cv_df)\n",
    "sns.stripplot(x='model_name', y='accuracy', data=cv_df, \n",
    "              size=8, jitter=True, edgecolor=\"gray\", linewidth=2)\n",
    "plt.show()"
   ]
  },
  {
   "cell_type": "code",
   "execution_count": 38,
   "metadata": {},
   "outputs": [
    {
     "data": {
      "text/plain": [
       "model_name\n",
       "LogisticRegression        0.745630\n",
       "MultinomialNB             0.591715\n",
       "RandomForestClassifier    0.585258\n",
       "Name: accuracy, dtype: float64"
      ]
     },
     "execution_count": 38,
     "metadata": {},
     "output_type": "execute_result"
    }
   ],
   "source": [
    "cv_df.groupby('model_name').accuracy.mean()"
   ]
  },
  {
   "cell_type": "code",
   "execution_count": 6,
   "metadata": {},
   "outputs": [
    {
     "name": "stdout",
     "output_type": "stream",
     "text": [
      "/home/sohail/Desktop/DEskTop/resume_classification/RESUME_DATA/java\n",
      "(1270, 34357)\n",
      "accuracy of java data is: 0.9992125984251968\n",
      "/home/sohail/Desktop/DEskTop/resume_classification/RESUME_DATA/c++\n",
      "(243, 34357)\n",
      "accuracy of c++ data is: 0.5390946502057613\n",
      "/home/sohail/Desktop/DEskTop/resume_classification/RESUME_DATA/python\n",
      "(93, 34357)\n",
      "accuracy of python data is: 0.053763440860215055\n",
      "/home/sohail/Desktop/DEskTop/resume_classification/RESUME_DATA/kernel\n",
      "(564, 34357)\n",
      "accuracy of kernel data is: 0.6861702127659575\n"
     ]
    }
   ],
   "source": [
    "##prediction\n",
    "predict_data_path = '/home/sohail/Desktop/DEskTop/resume_classification/RESUME_DATA/'\n",
    "#folders = os.listdir(data_path)\n",
    "\n",
    "for folder in folders:\n",
    "    predict_data = []\n",
    "    predict_label = []\n",
    "    folder_path = os.path.join(predict_data_path, folder)\n",
    "    print(folder_path)\n",
    "    files = os.listdir(folder_path)\n",
    "    for file in files:\n",
    "        file_path = os.path.join(folder_path, file)\n",
    "        text = \" \".join(re.split(\"\\W+\", textract.process(file_path).decode('utf-8')))\n",
    "        predict_data.append(text)\n",
    "        predict_label.append(folder)\n",
    "        \n",
    "    predict_feature_matrix = tfidf.transform(predict_data).toarray()\n",
    "    print(predict_feature_matrix.shape)\n",
    "    score = model.score(predict_feature_matrix, predict_label)\n",
    "    print(\"accuracy of \"+folder+\" data is: {}\".format(score))"
   ]
  },
  {
   "cell_type": "code",
   "execution_count": 19,
   "metadata": {},
   "outputs": [
    {
     "name": "stdout",
     "output_type": "stream",
     "text": [
      "['aakash-gupta.pdf', 'Jagmohan-Solanki.pdf', 'Rushikesh-Deshmukh.pdf', 'P.-Sivaiah.pdf', 'Anusha-Kallepalli.pdf', 'S.-Kumari.pdf', 'Anshul-Jain.pdf', 'H.J.-Chaitra.pdf', 'Veeresh-NB.pdf', 'Prajeesh-Nair.pdf', 'MaheswaraRao-Kalyanapu.pdf', 'abhijeet-mote.pdf', 'Ravi-Teja.pdf', 'Bonny-Bon.pdf', 'Nethaji.-Muliki.pdf']\n"
     ]
    },
    {
     "data": {
      "text/plain": [
       "array(['java'], dtype='<U6')"
      ]
     },
     "execution_count": 19,
     "metadata": {},
     "output_type": "execute_result"
    }
   ],
   "source": [
    "data_path = '/home/sohail/Desktop/DEskTop/resume_classification/downloaded_resumes'\n",
    "import os\n",
    "fol_path = os.path.join(data_path, 'python')\n",
    "l = os.listdir(fol_path)\n",
    "print(l)\n",
    "x = tfidf.transform([\" \".join(re.split(\"\\W+\", textract.process(os.path.join(fol_path, l[1])).decode('utf-8')))]).toarray()\n",
    "model.predict(x)"
   ]
  },
  {
   "cell_type": "code",
   "execution_count": 8,
   "metadata": {},
   "outputs": [],
   "source": [
    "# p = os.path.join(predict_data_path, 'java')\n",
    "# l = os.listdir(p)\n",
    "# fp = os.path.join(p, l[0])\n",
    "# fp1 = os.path.join(data_path, 'c++')\n",
    "# fp2 = os.path.join(fp1, os.listdir(fp1)[0])\n",
    "# print(fp2)\n",
    "# data = \" \".join(re.split(\"\\W+\", textract.process(fp2).decode('utf-8').lower()))\n",
    "# #x = tfidf.fit([data])\n",
    "# y = tfidf.transform([data]).toarray()\n",
    "# model.predict(y)"
   ]
  },
  {
   "cell_type": "code",
   "execution_count": 39,
   "metadata": {},
   "outputs": [],
   "source": [
    "##model fitting\n",
    "#from sklearn.linear_model import LogisticRegression\n",
    "from sklearn.neural_network import MLPClassifier\n",
    "#model = LogisticRegression(random_state=0)\n",
    "model = MLPClassifier(alpha=1)\n",
    "train_data, test_data, train_label, test_label = train_test_split(feature_matrix, label, shuffle=True)\n",
    "model.fit(train_data,train_label)\n",
    "#test_data_mat = tfidf.transform(test_data).toarray()\n",
    "predict_label = model.predict(test_data)"
   ]
  },
  {
   "cell_type": "code",
   "execution_count": 41,
   "metadata": {},
   "outputs": [
    {
     "data": {
      "image/png": "[encoded data removed]",
      "text/plain": [
       "<Figure size 432x288 with 2 Axes>"
      ]
     },
     "metadata": {},
     "output_type": "display_data"
    }
   ],
   "source": [
    "from sklearn.metrics import confusion_matrix\n",
    "import seaborn as sns\n",
    "\n",
    "conf_mat = confusion_matrix(test_label, predict_label)\n",
    "sns.heatmap(conf_mat, annot=True, fmt='d',\n",
    "            xticklabels=folders, yticklabels=folders)\n",
    "plt.ylabel('Actual')\n",
    "plt.xlabel('Predicted')\n",
    "plt.show()"
   ]
  },
  {
   "cell_type": "code",
   "execution_count": 43,
   "metadata": {},
   "outputs": [
    {
     "data": {
      "text/plain": [
       "0.7550644567219152"
      ]
     },
     "execution_count": 43,
     "metadata": {},
     "output_type": "execute_result"
    }
   ],
   "source": [
    "conf_mat\n",
    "model.score(test_data, test_label)"
   ]
  }
 ],
 "metadata": {
  "kernelspec": {
   "display_name": "Python 3",
   "language": "python",
   "name": "python3"
  },
  "language_info": {
   "codemirror_mode": {
    "name": "ipython",
    "version": 3
   },
   "file_extension": ".py",
   "mimetype": "text/x-python",
   "name": "python",
   "nbconvert_exporter": "python",
   "pygments_lexer": "ipython3",
   "version": "3.5.2"
  }
 },
 "nbformat": 4,
 "nbformat_minor": 2
}
